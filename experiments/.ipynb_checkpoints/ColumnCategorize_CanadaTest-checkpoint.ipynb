{
 "metadata": {
  "name": ""
 },
 "nbformat": 3,
 "nbformat_minor": 0,
 "worksheets": [
  {
   "cells": [
    {
     "cell_type": "code",
     "collapsed": false,
     "input": [
      "##  Trying my column catergoriaztion code out on the Canada data set"
     ],
     "language": "python",
     "metadata": {},
     "outputs": [],
     "prompt_number": 1
    },
    {
     "cell_type": "code",
     "collapsed": false,
     "input": [
      "import numpy as np\n",
      "import pandas as pd\n",
      "\n",
      "##data = pd.read_csv('Georgia_AllTenders_D1strow_.csv')\n",
      "data = pd.read_csv('../data/canada_example.csv')"
     ],
     "language": "python",
     "metadata": {},
     "outputs": [],
     "prompt_number": 4
    },
    {
     "cell_type": "code",
     "collapsed": false,
     "input": [
      "##data.head(5)[data.columns[0:10]]"
     ],
     "language": "python",
     "metadata": {},
     "outputs": [],
     "prompt_number": 6
    },
    {
     "cell_type": "code",
     "collapsed": false,
     "input": [
      "col_name_list = list(data.columns.values)\n",
      "len(col_name_list)\n",
      "\n",
      "col_name_frequency_dict = {}\n",
      "\n",
      "for item in col_name_list:\n",
      "    vc_f_item = data[item].value_counts()  ##value counts for item\n",
      "    ##print vc_f_item\n",
      "    \n",
      "    length_entities_item = len(vc_f_item)  ## the length of the value counts or the number of entities for an item\n",
      "    ##print length_entities_item\n",
      "    \n",
      "    col_name_frequency_dict[item] = length_entities_item\n",
      "\n",
      "##print col_name_frequency_dict\n",
      "\n",
      "##  Now I want to import that colum dict into a Series\n",
      "series_Column_Entities_Frequency_ = pd.Series(col_name_frequency_dict)"
     ],
     "language": "python",
     "metadata": {},
     "outputs": [],
     "prompt_number": 7
    },
    {
     "cell_type": "code",
     "collapsed": false,
     "input": [
      "values = int(raw_input(\"How many columns have less then this number of entities:\"))\n",
      "##  This is a boolean mask looking for values less then the number\n",
      "##print (series_Column_Entities_Frequency_ < values).sum()\n",
      "col_query = (series_Column_Entities_Frequency_ < values).sum()\n",
      "print col_query"
     ],
     "language": "python",
     "metadata": {},
     "outputs": [
      {
       "name": "stdout",
       "output_type": "stream",
       "stream": "stdout",
       "text": [
        "How many columns have less then this number of entities:7\n"
       ]
      },
      {
       "output_type": "stream",
       "stream": "stdout",
       "text": [
        "12\n"
       ]
      }
     ],
     "prompt_number": 8
    },
    {
     "cell_type": "code",
     "collapsed": false,
     "input": [
      "print \"There are\", len(col_name_list), \"columns listed and their names are:\", col_name_list"
     ],
     "language": "python",
     "metadata": {},
     "outputs": [
      {
       "output_type": "stream",
       "stream": "stdout",
       "text": [
        "There are 23 columns listed and their names are: ['language', 'title', 'reference_number', 'solicitation_number', 'amendment_number', 'publication_date', 'date_closing', 'amendment_date', 'publishing_status', 'gsin', 'region_opportunity', 'region_delivery', 'notice_type', 'trade_agreement', 'tendering_procedure', 'competitive_procurement_strategy', 'non_competitive_procurement_strategy', 'procurement_entity', 'end_user_entity', 'description', 'contact', 'document', 'attachment']\n"
       ]
      }
     ],
     "prompt_number": 9
    },
    {
     "cell_type": "code",
     "collapsed": false,
     "input": [
      "series_Column_Entities_Frequency_.sort()\n",
      "series_Column_Entities_Frequency_"
     ],
     "language": "python",
     "metadata": {},
     "outputs": [
      {
       "metadata": {},
       "output_type": "pyout",
       "prompt_number": 10,
       "text": [
        "amendment_date                           1\n",
        "publishing_status                        1\n",
        "publication_date                         1\n",
        "non_competitive_procurement_strategy     1\n",
        "amendment_number                         1\n",
        "competitive_procurement_strategy         2\n",
        "language                                 2\n",
        "attachment                               3\n",
        "tendering_procedure                      5\n",
        "region_opportunity                       5\n",
        "trade_agreement                          6\n",
        "notice_type                              6\n",
        "procurement_entity                       8\n",
        "end_user_entity                         13\n",
        "document                                13\n",
        "region_delivery                         13\n",
        "date_closing                            14\n",
        "gsin                                    19\n",
        "reference_number                        19\n",
        "solicitation_number                     19\n",
        "contact                                 19\n",
        "description                             38\n",
        "title                                   38\n",
        "dtype: int64"
       ]
      }
     ],
     "prompt_number": 10
    },
    {
     "cell_type": "code",
     "collapsed": false,
     "input": [],
     "language": "python",
     "metadata": {},
     "outputs": [],
     "prompt_number": 35
    },
    {
     "cell_type": "code",
     "collapsed": false,
     "input": [],
     "language": "python",
     "metadata": {},
     "outputs": [],
     "prompt_number": 35
    }
   ],
   "metadata": {}
  }
 ]
}