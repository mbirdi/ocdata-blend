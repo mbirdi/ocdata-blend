{
 "metadata": {
  "name": ""
 },
 "nbformat": 3,
 "nbformat_minor": 0,
 "worksheets": [
  {
   "cells": [
    {
     "cell_type": "code",
     "collapsed": false,
     "input": [
      "##  Trying my column catergoriaztion code out on the Canada data set"
     ],
     "language": "python",
     "metadata": {},
     "outputs": [],
     "prompt_number": 29
    },
    {
     "cell_type": "code",
     "collapsed": false,
     "input": [
      "import numpy as np\n",
      "import pandas as pd\n",
      "\n",
      "##data = pd.read_csv('Georgia_AllTenders_D1strow_.csv')\n",
      "data = pd.read_csv('canada_example.csv')"
     ],
     "language": "python",
     "metadata": {},
     "outputs": [],
     "prompt_number": 30
    },
    {
     "cell_type": "code",
     "collapsed": false,
     "input": [
      "##print data[:10]  ##It drives me buts that this does not work, something about a header?\n",
      "\n",
      "data.head(5)[data.columns[0:10]]"
     ],
     "language": "python",
     "metadata": {},
     "outputs": [
      {
       "html": [
        "<div style=\"max-height:1000px;max-width:1500px;overflow:auto;\">\n",
        "<table border=\"1\" class=\"dataframe\">\n",
        "  <thead>\n",
        "    <tr style=\"text-align: right;\">\n",
        "      <th></th>\n",
        "      <th>language</th>\n",
        "      <th>title</th>\n",
        "      <th>reference_number</th>\n",
        "      <th>solicitation_number</th>\n",
        "      <th>amendment_number</th>\n",
        "      <th>publication_date</th>\n",
        "      <th>date_closing</th>\n",
        "      <th>amendment_date</th>\n",
        "      <th>publishing_status</th>\n",
        "      <th>gsin</th>\n",
        "    </tr>\n",
        "  </thead>\n",
        "  <tbody>\n",
        "    <tr>\n",
        "      <th>0</th>\n",
        "      <td> English</td>\n",
        "      <td> SPARES FOR VICTORIA CLASS SUBMARINE (GRK(W8482...</td>\n",
        "      <td> PW-14-00632891</td>\n",
        "      <td> GRK(W8482-146269/000/A)</td>\n",
        "      <td> 0</td>\n",
        "      <td> 2014-04-29</td>\n",
        "      <td>  2014-06-09 14:00 Eastern Standard Time (EST)</td>\n",
        "      <td> NaN</td>\n",
        "      <td> Active</td>\n",
        "      <td> N3120: Bearings, Plain, Unmounted, N4720: Hose...</td>\n",
        "    </tr>\n",
        "    <tr>\n",
        "      <th>1</th>\n",
        "      <td>  French</td>\n",
        "      <td> PI\u00c8CES DE RECHANGE POUR SOUS-MARIN DE CLASSE V...</td>\n",
        "      <td> PW-14-00632891</td>\n",
        "      <td> GRK(W8482-146269/000/A)</td>\n",
        "      <td> 0</td>\n",
        "      <td> 2014-04-29</td>\n",
        "      <td>  2014-06-09 14:00 Eastern Standard Time (EST)</td>\n",
        "      <td> NaN</td>\n",
        "      <td> Active</td>\n",
        "      <td> N3120: Bearings, Plain, Unmounted, N4720: Hose...</td>\n",
        "    </tr>\n",
        "    <tr>\n",
        "      <th>2</th>\n",
        "      <td> English</td>\n",
        "      <td> Paving Parking Lot \u2013 St Anthony, 65 West Stree...</td>\n",
        "      <td> PW-14-00632902</td>\n",
        "      <td>            M1010-5-0187</td>\n",
        "      <td> 0</td>\n",
        "      <td> 2014-04-29</td>\n",
        "      <td> 2014-05-20 14:00 Atlantic Daylight Time (ADT)</td>\n",
        "      <td> NaN</td>\n",
        "      <td> Active</td>\n",
        "      <td>                         51: Construction Services</td>\n",
        "    </tr>\n",
        "    <tr>\n",
        "      <th>3</th>\n",
        "      <td>  French</td>\n",
        "      <td> Paver le stationnement du d\u00e9tachement de la GR...</td>\n",
        "      <td> PW-14-00632902</td>\n",
        "      <td>            M1010-5-0187</td>\n",
        "      <td> 0</td>\n",
        "      <td> 2014-04-29</td>\n",
        "      <td> 2014-05-20 14:00 Atlantic Daylight Time (ADT)</td>\n",
        "      <td> NaN</td>\n",
        "      <td> Active</td>\n",
        "      <td>                         51: Construction Services</td>\n",
        "    </tr>\n",
        "    <tr>\n",
        "      <th>4</th>\n",
        "      <td> English</td>\n",
        "      <td> Plumbing Repair and Maintenance Services on Gr...</td>\n",
        "      <td> PW-14-00632910</td>\n",
        "      <td>               201401212</td>\n",
        "      <td> 0</td>\n",
        "      <td> 2014-04-29</td>\n",
        "      <td>  2014-05-20 14:00 Eastern Daylight Time (EDT)</td>\n",
        "      <td> NaN</td>\n",
        "      <td> Active</td>\n",
        "      <td>              5161AB: PLUMBING CONTRACTOR SERVICES</td>\n",
        "    </tr>\n",
        "  </tbody>\n",
        "</table>\n",
        "</div>"
       ],
       "metadata": {},
       "output_type": "pyout",
       "prompt_number": 31,
       "text": [
        "  language                                              title  \\\n",
        "0  English  SPARES FOR VICTORIA CLASS SUBMARINE (GRK(W8482...   \n",
        "1   French  PI\u00c8CES DE RECHANGE POUR SOUS-MARIN DE CLASSE V...   \n",
        "2  English  Paving Parking Lot \u2013 St Anthony, 65 West Stree...   \n",
        "3   French  Paver le stationnement du d\u00e9tachement de la GR...   \n",
        "4  English  Plumbing Repair and Maintenance Services on Gr...   \n",
        "\n",
        "  reference_number      solicitation_number  amendment_number  \\\n",
        "0   PW-14-00632891  GRK(W8482-146269/000/A)                 0   \n",
        "1   PW-14-00632891  GRK(W8482-146269/000/A)                 0   \n",
        "2   PW-14-00632902             M1010-5-0187                 0   \n",
        "3   PW-14-00632902             M1010-5-0187                 0   \n",
        "4   PW-14-00632910                201401212                 0   \n",
        "\n",
        "  publication_date                                   date_closing  \\\n",
        "0       2014-04-29   2014-06-09 14:00 Eastern Standard Time (EST)   \n",
        "1       2014-04-29   2014-06-09 14:00 Eastern Standard Time (EST)   \n",
        "2       2014-04-29  2014-05-20 14:00 Atlantic Daylight Time (ADT)   \n",
        "3       2014-04-29  2014-05-20 14:00 Atlantic Daylight Time (ADT)   \n",
        "4       2014-04-29   2014-05-20 14:00 Eastern Daylight Time (EDT)   \n",
        "\n",
        "  amendment_date publishing_status  \\\n",
        "0            NaN            Active   \n",
        "1            NaN            Active   \n",
        "2            NaN            Active   \n",
        "3            NaN            Active   \n",
        "4            NaN            Active   \n",
        "\n",
        "                                                gsin  \n",
        "0  N3120: Bearings, Plain, Unmounted, N4720: Hose...  \n",
        "1  N3120: Bearings, Plain, Unmounted, N4720: Hose...  \n",
        "2                          51: Construction Services  \n",
        "3                          51: Construction Services  \n",
        "4               5161AB: PLUMBING CONTRACTOR SERVICES  "
       ]
      }
     ],
     "prompt_number": 31
    },
    {
     "cell_type": "code",
     "collapsed": false,
     "input": [
      "col_name_list = list(data.columns.values)\n",
      "len(col_name_list)\n",
      "\n",
      "col_name_frequency_dict = {}\n",
      "\n",
      "for item in col_name_list:\n",
      "    vc_f_item = data[item].value_counts()  ##value counts for item\n",
      "    ##print vc_f_item\n",
      "    \n",
      "    length_entities_item = len(vc_f_item)  ## the length of the value counts or the number of entities for an item\n",
      "    ##print length_entities_item\n",
      "    \n",
      "    col_name_frequency_dict[item] = length_entities_item\n",
      "\n",
      "##print col_name_frequency_dict\n",
      "\n",
      "##  Now I want to import that colum dict into a Series\n",
      "series_Column_Entities_Frequency_ = pd.Series(col_name_frequency_dict)"
     ],
     "language": "python",
     "metadata": {},
     "outputs": [],
     "prompt_number": 32
    },
    {
     "cell_type": "code",
     "collapsed": false,
     "input": [
      "values = int(raw_input(\"How many columns have less then this number of entities:\"))\n",
      "##  This is a boolean mask looking for values less then the number\n",
      "##print (series_Column_Entities_Frequency_ < values).sum()\n",
      "col_query = (series_Column_Entities_Frequency_ < values).sum()\n",
      "print col_query"
     ],
     "language": "python",
     "metadata": {},
     "outputs": [
      {
       "name": "stdout",
       "output_type": "stream",
       "stream": "stdout",
       "text": [
        "How many columns have less then this number of entities:6\n"
       ]
      },
      {
       "output_type": "stream",
       "stream": "stdout",
       "text": [
        "10\n"
       ]
      }
     ],
     "prompt_number": 33
    },
    {
     "cell_type": "code",
     "collapsed": false,
     "input": [
      "print \"There are\", len(col_name_list), \"columns listed and their names are:\", col_name_list"
     ],
     "language": "python",
     "metadata": {},
     "outputs": [
      {
       "output_type": "stream",
       "stream": "stdout",
       "text": [
        "There are 23 columns listed and their names are: ['language', 'title', 'reference_number', 'solicitation_number', 'amendment_number', 'publication_date', 'date_closing', 'amendment_date', 'publishing_status', 'gsin', 'region_opportunity', 'region_delivery', 'notice_type', 'trade_agreement', 'tendering_procedure', 'competitive_procurement_strategy', 'non_competitive_procurement_strategy', 'procurement_entity', 'end_user_entity', 'description', 'contact', 'document', 'attachment']\n"
       ]
      }
     ],
     "prompt_number": 34
    },
    {
     "cell_type": "code",
     "collapsed": false,
     "input": [
      "series_Column_Entities_Frequency_.sort()\n",
      "series_Column_Entities_Frequency_"
     ],
     "language": "python",
     "metadata": {},
     "outputs": [
      {
       "metadata": {},
       "output_type": "pyout",
       "prompt_number": 36,
       "text": [
        "amendment_date                           1\n",
        "publishing_status                        1\n",
        "publication_date                         1\n",
        "non_competitive_procurement_strategy     1\n",
        "amendment_number                         1\n",
        "competitive_procurement_strategy         2\n",
        "language                                 2\n",
        "attachment                               3\n",
        "tendering_procedure                      5\n",
        "region_opportunity                       5\n",
        "notice_type                              6\n",
        "trade_agreement                          6\n",
        "procurement_entity                       8\n",
        "end_user_entity                         13\n",
        "document                                13\n",
        "region_delivery                         13\n",
        "date_closing                            14\n",
        "gsin                                    19\n",
        "reference_number                        19\n",
        "solicitation_number                     19\n",
        "contact                                 19\n",
        "description                             38\n",
        "title                                   38\n",
        "dtype: int64"
       ]
      }
     ],
     "prompt_number": 36
    },
    {
     "cell_type": "code",
     "collapsed": false,
     "input": [],
     "language": "python",
     "metadata": {},
     "outputs": [],
     "prompt_number": 35
    },
    {
     "cell_type": "code",
     "collapsed": false,
     "input": [],
     "language": "python",
     "metadata": {},
     "outputs": [],
     "prompt_number": 35
    }
   ],
   "metadata": {}
  }
 ]
}