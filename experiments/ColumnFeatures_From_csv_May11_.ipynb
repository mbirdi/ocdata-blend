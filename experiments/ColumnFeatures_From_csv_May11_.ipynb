{
 "metadata": {
  "name": ""
 },
 "nbformat": 3,
 "nbformat_minor": 0,
 "worksheets": [
  {
   "cells": [
    {
     "cell_type": "code",
     "collapsed": false,
     "input": [
      "##  Turning my code into functions"
     ],
     "language": "python",
     "metadata": {},
     "outputs": [],
     "prompt_number": 153
    },
    {
     "cell_type": "code",
     "collapsed": false,
     "input": [
      "import numpy as np\n",
      "import pandas as pd\n",
      "\n",
      "##data = pd.read_csv('Georgia_AllTenders_D1strow_.csv')\n",
      "data = pd.read_csv('../data/canada_example.csv')"
     ],
     "language": "python",
     "metadata": {},
     "outputs": [],
     "prompt_number": 154
    },
    {
     "cell_type": "code",
     "collapsed": false,
     "input": [
      "##  Just keeping this in for my own sanity.  It displays part of the dataframe.\n",
      "##data.head(5)[data.columns[0:10]]"
     ],
     "language": "python",
     "metadata": {},
     "outputs": [],
     "prompt_number": 155
    },
    {
     "cell_type": "code",
     "collapsed": false,
     "input": [
      "## a simple function which takes a dataframe and lists out the column values\n",
      "\n",
      "def get_col_names(df):\n",
      "    ##df must be a dataframe\n",
      "    \n",
      "    col_name_list = list(df.columns.values)\n",
      "\n",
      "    return col_name_list\n",
      "\n",
      "\n",
      "## calling the function\n",
      "col_name_list = get_col_names(data)\n",
      "\n",
      "##  quick verification that the data exists outsie the function\n",
      "print type(col_name_list)\n",
      "print col_name_list"
     ],
     "language": "python",
     "metadata": {},
     "outputs": [
      {
       "output_type": "stream",
       "stream": "stdout",
       "text": [
        "<type 'list'>\n",
        "['language', 'title', 'reference_number', 'solicitation_number', 'amendment_number', 'publication_date', 'date_closing', 'amendment_date', 'publishing_status', 'gsin', 'region_opportunity', 'region_delivery', 'notice_type', 'trade_agreement', 'tendering_procedure', 'competitive_procurement_strategy', 'non_competitive_procurement_strategy', 'procurement_entity', 'end_user_entity', 'description', 'contact', 'document', 'attachment']\n"
       ]
      }
     ],
     "prompt_number": 156
    },
    {
     "cell_type": "code",
     "collapsed": false,
     "input": [
      "## takes the output of the previous function, with is a list of colum names\n",
      "\n",
      "def get_num_col(col_name_list):\n",
      "    \n",
      "    num_col = len(col_name_list)\n",
      "    \n",
      "    return num_col\n",
      "\n",
      "\n",
      "## calling the function which depends on the col_name_list variable having been run\n",
      "num_col = get_num_col(col_name_list)\n",
      "print num_col"
     ],
     "language": "python",
     "metadata": {},
     "outputs": [
      {
       "output_type": "stream",
       "stream": "stdout",
       "text": [
        "23\n"
       ]
      }
     ],
     "prompt_number": 157
    },
    {
     "cell_type": "code",
     "collapsed": false,
     "input": [
      "##  creating a blank dict which I will fill, when I call the function\n",
      "##  col_name_frequency_dict = {}\n",
      "\n",
      "def get_feature_histo(var_col_list, var_df):\n",
      "    ## takes two variables, a list of column names and a dataframe\n",
      "    \n",
      "    \n",
      "    for item in col_name_list:\n",
      "        vc_f_item = var_df[item].value_counts()  ##value counts for item\n",
      "        ##print vc_f_item\n",
      "        \n",
      "        length_entities_item = len(vc_f_item)  ## the length of the value counts or the number of entities for an item\n",
      "    \n",
      "        ##print length_entities_item\n",
      "    \n",
      "        col_name_frequency_dict[item] = length_entities_item \n",
      "    \n",
      "    series_Column_Entities_Frequency_ = pd.Series(col_name_frequency_dict)\n",
      "    \n",
      "    return series_Column_Entities_Frequency_\n",
      "    ##  Since the data is a dataframe, I wanted to make this a Series \n",
      "    \n",
      "\n",
      "## calling the function with two arguments, a list of names and a dataframe\n",
      "feature_histo = get_col_histo(col_name_list, data)"
     ],
     "language": "python",
     "metadata": {},
     "outputs": [],
     "prompt_number": 158
    },
    {
     "cell_type": "code",
     "collapsed": false,
     "input": [
      "feature_histo.sort()\n",
      "print feature_histo"
     ],
     "language": "python",
     "metadata": {},
     "outputs": [
      {
       "output_type": "stream",
       "stream": "stdout",
       "text": [
        "amendment_date                           1\n",
        "publishing_status                        1\n",
        "publication_date                         1\n",
        "non_competitive_procurement_strategy     1\n",
        "amendment_number                         1\n",
        "competitive_procurement_strategy         2\n",
        "language                                 2\n",
        "attachment                               3\n",
        "tendering_procedure                      5\n",
        "region_opportunity                       5\n",
        "trade_agreement                          6\n",
        "notice_type                              6\n",
        "procurement_entity                       8\n",
        "end_user_entity                         13\n",
        "document                                13\n",
        "region_delivery                         13\n",
        "date_closing                            14\n",
        "gsin                                    19\n",
        "reference_number                        19\n",
        "solicitation_number                     19\n",
        "contact                                 19\n",
        "description                             38\n",
        "title                                   38\n",
        "dtype: int64\n"
       ]
      }
     ],
     "prompt_number": 159
    },
    {
     "cell_type": "code",
     "collapsed": false,
     "input": [
      "def query_feature_num(series_histo):\n",
      "    \n",
      "    ##  Raw input for the columns of interest\n",
      "    values = int(raw_input(\"How many columns have less then this number of entities:\"))\n",
      "    \n",
      "    ##  This is a boolean mask looking for values less then the number\n",
      "    col_query = (series_histo < values).sum()\n",
      "    return col_query"
     ],
     "language": "python",
     "metadata": {},
     "outputs": [],
     "prompt_number": 160
    },
    {
     "cell_type": "code",
     "collapsed": false,
     "input": [
      "print \"There are\", len(col_name_list), \"columns listed and their names are:\", col_name_list"
     ],
     "language": "python",
     "metadata": {},
     "outputs": [
      {
       "output_type": "stream",
       "stream": "stdout",
       "text": [
        "There are 23 columns listed and their names are: ['language', 'title', 'reference_number', 'solicitation_number', 'amendment_number', 'publication_date', 'date_closing', 'amendment_date', 'publishing_status', 'gsin', 'region_opportunity', 'region_delivery', 'notice_type', 'trade_agreement', 'tendering_procedure', 'competitive_procurement_strategy', 'non_competitive_procurement_strategy', 'procurement_entity', 'end_user_entity', 'description', 'contact', 'document', 'attachment']\n"
       ]
      }
     ],
     "prompt_number": 161
    },
    {
     "cell_type": "code",
     "collapsed": false,
     "input": [
      "query_feature_num(feature_histo)"
     ],
     "language": "python",
     "metadata": {},
     "outputs": [
      {
       "name": "stdout",
       "output_type": "stream",
       "stream": "stdout",
       "text": [
        "How many columns have less then this number of entities:8\n"
       ]
      },
      {
       "metadata": {},
       "output_type": "pyout",
       "prompt_number": 162,
       "text": [
        "12"
       ]
      }
     ],
     "prompt_number": 162
    },
    {
     "cell_type": "code",
     "collapsed": false,
     "input": [],
     "language": "python",
     "metadata": {},
     "outputs": []
    }
   ],
   "metadata": {}
  }
 ]
}